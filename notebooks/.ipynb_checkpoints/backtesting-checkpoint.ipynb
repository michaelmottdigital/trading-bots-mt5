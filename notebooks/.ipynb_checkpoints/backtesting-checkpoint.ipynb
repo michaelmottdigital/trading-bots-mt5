{
 "cells": [
  {
   "cell_type": "code",
   "execution_count": 134,
   "id": "c4ad52f9-7743-495a-8efe-d995273670df",
   "metadata": {},
   "outputs": [
    {
     "name": "stdout",
     "output_type": "stream",
     "text": [
      "get symbol history\n"
     ]
    }
   ],
   "source": [
    "import MetaTrader5 as mt5\n",
    "import pandas as pd\n",
    "import datetime\n",
    "import sys\n",
    "import os\n",
    "import mplfinance as mpf\n",
    "import talib as ta\n",
    "import numpy as np\n",
    "\n",
    "import warnings\n",
    "warnings.filterwarnings('ignore')\n",
    "\n",
    "from backtesting import Strategy, Backtest\n",
    "from backtesting.test import SMA, GOOG\n",
    "from backtesting.lib import crossover, TrailingStrategy\n",
    "\n",
    "current = os.path.abspath('')\n",
    "parent = os.path.dirname(current)\n",
    "sys.path.append(parent)\n",
    "\n",
    "from utils import append_cdl_patterns, get_symbol_history\n",
    "\n",
    "if not mt5.initialize():\n",
    "    print(\"initialize() failed\")\n",
    "    mt5.shutdown()\n",
    "    \n",
    "symbol = \"ETHUSD\"\n",
    "\n",
    "data = get_symbol_history(\"ETHUSD\", periods=25000)\n",
    "\n",
    "\n",
    "#data = append_cdl_patterns(data)\n",
    "\n",
    "data.drop(columns={\"rsi\", \"atr\"}, inplace=True)\n",
    "\n",
    "seven_hours = datetime.timedelta(hours=7)\n",
    "data = (data\n",
    "        .assign(server_time = pd.to_datetime(data.time, unit=\"s\").astype(str))\n",
    "        .assign(Time = pd.to_datetime( data.time, unit=\"s\") - seven_hours)\n",
    "        .assign(local_time = pd.to_datetime( data.time, unit=\"s\") - seven_hours)\n",
    "        .set_index(\"Time\")\n",
    "        .sort_index(ascending=True)\n",
    "       )\n",
    "\n",
    "\n",
    "data.rename(columns={\"open\": \"Open\", \"close\": \"Close\", \"low\": \"Low\", \"high\": \"High\", \"volume\": \"Volume\"}, inplace=True)\n",
    "\n",
    "#data[\"ind_rsi\"] = ta.RSI(data[\"Close\"], 14)\n",
    "#data[\"ptn_engulfing\"] = ta.CDLENGULFING(data.Open, data.High, data.Low, data.Close)     \n",
    "\n"
   ]
  },
  {
   "cell_type": "code",
   "execution_count": 83,
   "id": "8caca7bb-2bd9-4a3b-b564-e5bbc1ed2cd5",
   "metadata": {},
   "outputs": [],
   "source": [
    "#data.query(\"ptn_engulfing != 0\")[[\"ind_rsi\", \"ptn_engulfing\"]]"
   ]
  },
  {
   "cell_type": "code",
   "execution_count": 177,
   "id": "a9b513d3-1c8b-46f3-bf7e-4329a9f3a53e",
   "metadata": {},
   "outputs": [
    {
     "data": {
      "text/plain": [
       "Win Rate [%]        40.0\n",
       "# Trades              20\n",
       "Return [%]      0.676566\n",
       "dtype: object"
      ]
     },
     "execution_count": 177,
     "metadata": {},
     "output_type": "execute_result"
    }
   ],
   "source": [
    "class EngulfingCandle(TrailingStrategy):\n",
    "    \n",
    "    def init(self):\n",
    "        super().init()\n",
    "        #print(self.data)\n",
    "        self.rsi = self.I(ta.RSI, self.data.Close, 14)        \n",
    "        self.ptn_engulfing = self.I(ta.CDLENGULFING, data.Open, data.High, data.Low, data.Close )\n",
    "        self.ptn_morningstar = self.I(ta.CDLMORNINGSTAR, data.Open, data.High, data.Low, data.Close )\n",
    "        self.ptn_eveningstar = self.I(ta.CDLEVENINGSTAR, data.Open, data.High, data.Low, data.Close )\n",
    "\n",
    "        self.set_trailing_sl(1.5)\n",
    "\n",
    "    \n",
    "    def next(self):\n",
    "        super().next()\n",
    "\n",
    "        rsi_overbought = 65\n",
    "        rsi_oversold = 35\n",
    "        \n",
    "        rsi_signal_bullish = ( True if (self.rsi > rsi_oversold) and (self.rsi[-1] < rsi_oversold or self.rsi[-2] < rsi_oversold or self.rsi[-3] < rsi_oversold)\n",
    "                     else False\n",
    "        )\n",
    "        rsi_signal_bearish = ( True if (self.rsi < rsi_overbought) and (self.rsi[-1] > rsi_overbought or self.rsi[-2] > rsi_overbought or self.rsi[-3] > rsi_overbought)\n",
    "                     else False\n",
    "        )\n",
    "\n",
    "        if (self.ptn_engulfing == 100 or self.ptn_morningstar) and rsi_signal_bullish:\n",
    "            self.buy()\n",
    "        elif (self.ptn_engulfing == -100 or self.ptn_eveningstar) and rsi_signal_bearish:\n",
    "            self.sell()\n",
    "\n",
    "        \n",
    "bt = Backtest(data, EngulfingCandle,\n",
    "              cash=10000, commission=0.00,\n",
    "              exclusive_orders=True)\n",
    "\n",
    "output = bt.run()\n",
    "#bt.plot()\n",
    "output[[\"Win Rate [%]\", \"# Trades\", \"Return [%]\"]]\n",
    "#output\n",
    "\n",
    "    "
   ]
  },
  {
   "cell_type": "code",
   "execution_count": null,
   "id": "a1583cf9-fc13-41c6-ac64-7d6792195fde",
   "metadata": {},
   "outputs": [],
   "source": []
  }
 ],
 "metadata": {
  "kernelspec": {
   "display_name": "Python 3 (ipykernel)",
   "language": "python",
   "name": "python3"
  },
  "language_info": {
   "codemirror_mode": {
    "name": "ipython",
    "version": 3
   },
   "file_extension": ".py",
   "mimetype": "text/x-python",
   "name": "python",
   "nbconvert_exporter": "python",
   "pygments_lexer": "ipython3",
   "version": "3.10.11"
  }
 },
 "nbformat": 4,
 "nbformat_minor": 5
}
