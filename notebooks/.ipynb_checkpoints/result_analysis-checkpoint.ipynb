{
 "cells": [
  {
   "cell_type": "code",
   "execution_count": 58,
   "id": "84bc9fa8-0b6a-4c7d-97f5-d264a857154f",
   "metadata": {},
   "outputs": [],
   "source": [
    "import MetaTrader5 as mt5\n",
    "import pandas as pd\n",
    "from datetime import datetime, timedelta\n",
    "import mplfinance as mpf\n",
    "import pandas_ta as pta\n",
    "import numpy as np\n",
    "import csv, os\n",
    "\n",
    "if not mt5.initialize():\n",
    "    print(\"initialize() failed\")\n",
    "    mt5.shutdown()"
   ]
  },
  {
   "cell_type": "code",
   "execution_count": 76,
   "id": "5656c481-7192-4589-a11f-bb47d8d4a137",
   "metadata": {},
   "outputs": [],
   "source": [
    "symbol = \"SP500\"\n",
    "\n",
    "one_day = timedelta(hours=7)\n",
    "\n",
    "start_date = datetime(2024, 1, 3)\n",
    "end_date = datetime.now()\n",
    "\n",
    "#data = mt5.history_deals_get(\n",
    " #           start_date,\n",
    " ##           end_date\n",
    "  #      )\n",
    "\n",
    "# data is a names tuple so we have to convert it to a dataframe\n",
    "#trade_history=pd.DataFrame(list(data),columns=data[0]._asdict().keys())\n",
    "\n"
   ]
  },
  {
   "cell_type": "code",
   "execution_count": 90,
   "id": "af80b21b-90db-4097-a8e5-621548f2cc70",
   "metadata": {},
   "outputs": [
    {
     "name": "stdout",
     "output_type": "stream",
     "text": [
      "{'time': '2024-01-03 18:12:40.921373', 'symbol': 'ETHUSD', 'ticket_id': '201632390', 'order_type': 'create_position', 'direction': 'long', 'price_open': '2199.77', 'sl_moved': '0', 'sl': '2195.1879588786296'}\n"
     ]
    },
    {
     "name": "stderr",
     "output_type": "stream",
     "text": [
      "C:\\Users\\micha\\AppData\\Local\\Temp\\ipykernel_11924\\3592715187.py:26: FutureWarning: Calling float on a single element Series is deprecated and will raise a TypeError in the future. Use float(ser.iloc[0]) instead\n",
      "  close_price = float(trade_history.tail(1).price)\n"
     ]
    }
   ],
   "source": [
    "file_name = \"../logs/tradelog.csv\"\n",
    "    \n",
    "if not os.path.isfile(file_name):\n",
    "    print(\"file does not exist\")    \n",
    "\n",
    "result = []\n",
    "\n",
    "with open(file_name, \"r\", newline=\"\", encoding=\"utf-8\") as f:\n",
    "    reader = csv.DictReader(\n",
    "        f,fieldnames=[\"time\", \"symbol\", \"ticket_id\", \"order_type\", \"direction\", \"price_open\", \"sl_moved\", \"sl\"]\n",
    "    )\n",
    "    #skip header row\n",
    "    next(reader)\n",
    "    \n",
    "    for row in reader:\n",
    "        print(row)\n",
    "        ticket_id = int(row[\"ticket_id\"])\n",
    "        #print(ticket_id)\n",
    "        postitions = mt5.history_deals_get(position=ticket_id)\n",
    "\n",
    "        trade_history=pd.DataFrame(list(postitions),columns=postitions[0]._asdict().keys())\n",
    "        \n",
    "    \n",
    "\n",
    "        # last row contains final price as stop loss\n",
    "        close_price = float(trade_history.tail(1).price)\n",
    "\n",
    "        profit_loss = close_price - float(row[\"price_open\"])\n",
    "\n",
    "        result.append(\n",
    "            { \n",
    "                \"time\": row[\"time\"],\n",
    "                \"symbol\": row[\"symbol\"],\n",
    "                \"ticket_id\": row[\"ticket_id\"],\n",
    "                \"direction\": row[\"direction\"],\n",
    "                \"open_price\": float(row[\"price_open\"]),\n",
    "                \"close_price\": close_price,\n",
    "                \"profit_loss\": profit_loss\n",
    "            }\n",
    "        )\n"
   ]
  },
  {
   "cell_type": "code",
   "execution_count": 88,
   "id": "23405e62-164a-47a2-9cf2-527ff18075ca",
   "metadata": {},
   "outputs": [
    {
     "data": {
      "text/plain": [
       "[{'time': '2024-01-03 18:12:40.921373',\n",
       "  'symbol': 'ETHUSD',\n",
       "  'ticket_id': '201632390',\n",
       "  'direction': 'long',\n",
       "  'open_price': '2199.77',\n",
       "  'close_price': 1    2205.16\n",
       "  Name: price, dtype: float64,\n",
       "  'profit_loss': 1    5.39\n",
       "  Name: price, dtype: float64}]"
      ]
     },
     "execution_count": 88,
     "metadata": {},
     "output_type": "execute_result"
    }
   ],
   "source": [
    "result"
   ]
  }
 ],
 "metadata": {
  "kernelspec": {
   "display_name": "Python 3 (ipykernel)",
   "language": "python",
   "name": "python3"
  },
  "language_info": {
   "codemirror_mode": {
    "name": "ipython",
    "version": 3
   },
   "file_extension": ".py",
   "mimetype": "text/x-python",
   "name": "python",
   "nbconvert_exporter": "python",
   "pygments_lexer": "ipython3",
   "version": "3.10.11"
  }
 },
 "nbformat": 4,
 "nbformat_minor": 5
}
