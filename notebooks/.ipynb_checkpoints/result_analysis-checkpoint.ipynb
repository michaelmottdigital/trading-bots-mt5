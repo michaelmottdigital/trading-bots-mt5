{
 "cells": [
  {
   "cell_type": "code",
   "execution_count": 54,
   "id": "84bc9fa8-0b6a-4c7d-97f5-d264a857154f",
   "metadata": {},
   "outputs": [],
   "source": [
    "import MetaTrader5 as mt5\n",
    "import pandas as pd\n",
    "from datetime import datetime, timedelta\n",
    "\n",
    "#from datetime import timedelta\n",
    "import mplfinance as mpf\n",
    "import pandas_ta as pta\n",
    "import numpy as np\n",
    "from ta.momentum import RSIIndicator\n",
    "\n",
    "\n",
    "if not mt5.initialize():\n",
    "    print(\"initialize() failed\")\n",
    "    mt5.shutdown()"
   ]
  },
  {
   "cell_type": "code",
   "execution_count": 68,
   "id": "5656c481-7192-4589-a11f-bb47d8d4a137",
   "metadata": {},
   "outputs": [],
   "source": [
    "symbol = \"SP500\"\n",
    "\n",
    "one_day = timedelta(hours=7)\n",
    "\n",
    "start_date = datetime(2023, 12, 22)\n",
    "end_date = datetime.now()\n",
    "\n",
    "data = mt5.history_orders_get(\n",
    "            start_date,\n",
    "            end_date\n",
    "        )\n",
    "\n",
    "# data is a names tuple so we have to convert it to a dataframe\n",
    "df=pd.DataFrame(list(data),columns=data[0]._asdict().keys())\n"
   ]
  },
  {
   "cell_type": "code",
   "execution_count": 62,
   "id": "069cfcdb-a3d2-44c2-90da-c94a77b25aee",
   "metadata": {},
   "outputs": [
    {
     "name": "stdout",
     "output_type": "stream",
     "text": [
      "0\n"
     ]
    }
   ],
   "source": [
    "print(mt5.ORDER_TYPE_BUY)\n",
    "# types\n",
    "# 0 - buy\n",
    "# 1 - sell\n",
    "\n"
   ]
  },
  {
   "cell_type": "code",
   "execution_count": 84,
   "id": "54898911-18a0-4a0f-a9c3-18da60c031c1",
   "metadata": {},
   "outputs": [
    {
     "name": "stderr",
     "output_type": "stream",
     "text": [
      "C:\\Users\\micha\\AppData\\Local\\Temp\\ipykernel_6664\\1569442077.py:3: SettingWithCopyWarning: \n",
      "A value is trying to be set on a copy of a slice from a DataFrame.\n",
      "Try using .loc[row_indexer,col_indexer] = value instead\n",
      "\n",
      "See the caveats in the documentation: https://pandas.pydata.org/pandas-docs/stable/user_guide/indexing.html#returning-a-view-versus-a-copy\n",
      "  focus_data[\"open_time\"] = pd.to_datetime(focus_data[\"time_setup\"], unit=\"s\")\n",
      "C:\\Users\\micha\\AppData\\Local\\Temp\\ipykernel_6664\\1569442077.py:4: SettingWithCopyWarning: \n",
      "A value is trying to be set on a copy of a slice from a DataFrame.\n",
      "Try using .loc[row_indexer,col_indexer] = value instead\n",
      "\n",
      "See the caveats in the documentation: https://pandas.pydata.org/pandas-docs/stable/user_guide/indexing.html#returning-a-view-versus-a-copy\n",
      "  focus_data[\"close_time\"] = pd.to_datetime(focus_data[\"time_done\"], unit=\"s\")\n"
     ]
    },
    {
     "data": {
      "text/html": [
       "<div>\n",
       "<style scoped>\n",
       "    .dataframe tbody tr th:only-of-type {\n",
       "        vertical-align: middle;\n",
       "    }\n",
       "\n",
       "    .dataframe tbody tr th {\n",
       "        vertical-align: top;\n",
       "    }\n",
       "\n",
       "    .dataframe thead th {\n",
       "        text-align: right;\n",
       "    }\n",
       "</style>\n",
       "<table border=\"1\" class=\"dataframe\">\n",
       "  <thead>\n",
       "    <tr style=\"text-align: right;\">\n",
       "      <th></th>\n",
       "      <th>ticket</th>\n",
       "      <th>time_setup</th>\n",
       "      <th>time_setup_msc</th>\n",
       "      <th>time_done</th>\n",
       "      <th>time_done_msc</th>\n",
       "      <th>time_expiration</th>\n",
       "      <th>type</th>\n",
       "      <th>type_time</th>\n",
       "      <th>type_filling</th>\n",
       "      <th>state</th>\n",
       "      <th>...</th>\n",
       "      <th>sl</th>\n",
       "      <th>tp</th>\n",
       "      <th>price_current</th>\n",
       "      <th>price_stoplimit</th>\n",
       "      <th>symbol</th>\n",
       "      <th>comment</th>\n",
       "      <th>external_id</th>\n",
       "      <th>local_time</th>\n",
       "      <th>open_time</th>\n",
       "      <th>close_time</th>\n",
       "    </tr>\n",
       "  </thead>\n",
       "  <tbody>\n",
       "    <tr>\n",
       "      <th>32</th>\n",
       "      <td>99757297</td>\n",
       "      <td>1703285110</td>\n",
       "      <td>1703285110107</td>\n",
       "      <td>1703285110</td>\n",
       "      <td>1703285110107</td>\n",
       "      <td>0</td>\n",
       "      <td>0</td>\n",
       "      <td>0</td>\n",
       "      <td>0</td>\n",
       "      <td>4</td>\n",
       "      <td>...</td>\n",
       "      <td>2306.78</td>\n",
       "      <td>0.0</td>\n",
       "      <td>2314.78</td>\n",
       "      <td>0.0</td>\n",
       "      <td>ETHUSD</td>\n",
       "      <td>buyETHUSD</td>\n",
       "      <td></td>\n",
       "      <td>2023-12-22 22:45:10</td>\n",
       "      <td>2023-12-22 22:45:10</td>\n",
       "      <td>2023-12-22 22:45:10</td>\n",
       "    </tr>\n",
       "  </tbody>\n",
       "</table>\n",
       "<p>1 rows × 27 columns</p>\n",
       "</div>"
      ],
      "text/plain": [
       "      ticket  time_setup  time_setup_msc   time_done  time_done_msc  \\\n",
       "32  99757297  1703285110   1703285110107  1703285110  1703285110107   \n",
       "\n",
       "    time_expiration  type  type_time  type_filling  state  ...       sl   tp  \\\n",
       "32                0     0          0             0      4  ...  2306.78  0.0   \n",
       "\n",
       "    price_current  price_stoplimit  symbol    comment  external_id  \\\n",
       "32        2314.78              0.0  ETHUSD  buyETHUSD                \n",
       "\n",
       "            local_time           open_time          close_time  \n",
       "32 2023-12-22 22:45:10 2023-12-22 22:45:10 2023-12-22 22:45:10  \n",
       "\n",
       "[1 rows x 27 columns]"
      ]
     },
     "execution_count": 84,
     "metadata": {},
     "output_type": "execute_result"
    }
   ],
   "source": [
    "\n",
    "focus_data = df.query(\"symbol == 'ETHUSD' and ticket == 99757297\")\n",
    "\n",
    "focus_data[\"open_time\"] = pd.to_datetime(focus_data[\"time_setup\"], unit=\"s\")\n",
    "focus_data[\"close_time\"] = pd.to_datetime(focus_data[\"time_done\"], unit=\"s\")\n",
    "\n",
    "#focus_data[[\"open_time\", \"close_time\", \"ticket\", \"price_open\"]]\n",
    "\n",
    "#focus_data.info()\n",
    "\n",
    "focus_data"
   ]
  }
 ],
 "metadata": {
  "kernelspec": {
   "display_name": "Python 3 (ipykernel)",
   "language": "python",
   "name": "python3"
  },
  "language_info": {
   "codemirror_mode": {
    "name": "ipython",
    "version": 3
   },
   "file_extension": ".py",
   "mimetype": "text/x-python",
   "name": "python",
   "nbconvert_exporter": "python",
   "pygments_lexer": "ipython3",
   "version": "3.10.11"
  }
 },
 "nbformat": 4,
 "nbformat_minor": 5
}
