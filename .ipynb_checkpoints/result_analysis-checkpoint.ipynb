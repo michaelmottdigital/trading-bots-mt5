{
 "cells": [
  {
   "cell_type": "code",
   "execution_count": 54,
   "id": "84bc9fa8-0b6a-4c7d-97f5-d264a857154f",
   "metadata": {},
   "outputs": [],
   "source": [
    "import MetaTrader5 as mt5\n",
    "import pandas as pd\n",
    "from datetime import datetime, timedelta\n",
    "\n",
    "#from datetime import timedelta\n",
    "import mplfinance as mpf\n",
    "import pandas_ta as pta\n",
    "import numpy as np\n",
    "from ta.momentum import RSIIndicator\n",
    "\n",
    "\n",
    "if not mt5.initialize():\n",
    "    print(\"initialize() failed\")\n",
    "    mt5.shutdown()"
   ]
  },
  {
   "cell_type": "code",
   "execution_count": 68,
   "id": "5656c481-7192-4589-a11f-bb47d8d4a137",
   "metadata": {},
   "outputs": [],
   "source": [
    "symbol = \"SP500\"\n",
    "\n",
    "one_day = timedelta(hours=7)\n",
    "\n",
    "start_date = datetime(2023, 12, 22)\n",
    "end_date = datetime.now()\n",
    "\n",
    "data = mt5.history_orders_get(\n",
    "            start_date,\n",
    "            end_date\n",
    "        )\n",
    "\n",
    "# data is a names tuple so we have to convert it to a dataframe\n",
    "df=pd.DataFrame(list(data),columns=data[0]._asdict().keys())\n"
   ]
  },
  {
   "cell_type": "code",
   "execution_count": 62,
   "id": "069cfcdb-a3d2-44c2-90da-c94a77b25aee",
   "metadata": {},
   "outputs": [
    {
     "name": "stdout",
     "output_type": "stream",
     "text": [
      "0\n"
     ]
    }
   ],
   "source": [
    "print(mt5.ORDER_TYPE_BUY)\n",
    "# types\n",
    "# 0 - buy\n",
    "# 1 - sell\n",
    "\n"
   ]
  },
  {
   "cell_type": "code",
   "execution_count": 79,
   "id": "54898911-18a0-4a0f-a9c3-18da60c031c1",
   "metadata": {},
   "outputs": [
    {
     "name": "stdout",
     "output_type": "stream",
     "text": [
      "<class 'pandas.core.frame.DataFrame'>\n",
      "Index: 1 entries, 32 to 32\n",
      "Data columns (total 25 columns):\n",
      " #   Column           Non-Null Count  Dtype         \n",
      "---  ------           --------------  -----         \n",
      " 0   ticket           1 non-null      int64         \n",
      " 1   time_setup       1 non-null      int64         \n",
      " 2   time_setup_msc   1 non-null      int64         \n",
      " 3   time_done        1 non-null      int64         \n",
      " 4   time_done_msc    1 non-null      int64         \n",
      " 5   time_expiration  1 non-null      int64         \n",
      " 6   type             1 non-null      int64         \n",
      " 7   type_time        1 non-null      int64         \n",
      " 8   type_filling     1 non-null      int64         \n",
      " 9   state            1 non-null      int64         \n",
      " 10  magic            1 non-null      int64         \n",
      " 11  position_id      1 non-null      int64         \n",
      " 12  position_by_id   1 non-null      int64         \n",
      " 13  reason           1 non-null      int64         \n",
      " 14  volume_initial   1 non-null      float64       \n",
      " 15  volume_current   1 non-null      float64       \n",
      " 16  price_open       1 non-null      float64       \n",
      " 17  sl               1 non-null      float64       \n",
      " 18  tp               1 non-null      float64       \n",
      " 19  price_current    1 non-null      float64       \n",
      " 20  price_stoplimit  1 non-null      float64       \n",
      " 21  symbol           1 non-null      object        \n",
      " 22  comment          1 non-null      object        \n",
      " 23  external_id      1 non-null      object        \n",
      " 24  local_time       1 non-null      datetime64[ns]\n",
      "dtypes: datetime64[ns](1), float64(7), int64(14), object(3)\n",
      "memory usage: 208.0+ bytes\n"
     ]
    },
    {
     "name": "stderr",
     "output_type": "stream",
     "text": [
      "C:\\Users\\micha\\AppData\\Local\\Temp\\ipykernel_6664\\3501874957.py:3: SettingWithCopyWarning: \n",
      "A value is trying to be set on a copy of a slice from a DataFrame.\n",
      "Try using .loc[row_indexer,col_indexer] = value instead\n",
      "\n",
      "See the caveats in the documentation: https://pandas.pydata.org/pandas-docs/stable/user_guide/indexing.html#returning-a-view-versus-a-copy\n",
      "  focus_data[\"local_time\"] = pd.to_datetime(focus_data[\"time_setup\"], unit=\"s\")\n"
     ]
    }
   ],
   "source": [
    "\n",
    "focus_data = df.query(\"symbol == 'ETHUSD' and ticket == 99757297\")\n",
    "\n",
    "focus_data[\"open_time\"] = pd.to_datetime(focus_data[\"time_setup\"], unit=\"s\")\n",
    "focus_data[\"close_time\"] = pd.to_datetime(focus_data[\"time_done\"], unit=\"s\")\n",
    "\n",
    "focus_data[[\"local_time\", \"ticket\", \"price_open\"]]\n",
    "\n",
    "focus_data.info()\n",
    "\n"
   ]
  }
 ],
 "metadata": {
  "kernelspec": {
   "display_name": "Python 3 (ipykernel)",
   "language": "python",
   "name": "python3"
  },
  "language_info": {
   "codemirror_mode": {
    "name": "ipython",
    "version": 3
   },
   "file_extension": ".py",
   "mimetype": "text/x-python",
   "name": "python",
   "nbconvert_exporter": "python",
   "pygments_lexer": "ipython3",
   "version": "3.10.11"
  }
 },
 "nbformat": 4,
 "nbformat_minor": 5
}
